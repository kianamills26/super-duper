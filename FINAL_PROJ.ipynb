{
 "cells": [
  {
   "cell_type": "code",
   "execution_count": null,
   "metadata": {},
   "outputs": [],
   "source": [
    "# BEFORE DOING ANYTHING\n",
    "# cd Desktop\n",
    "# git pull\n",
    "\n",
    "# .. then do stuff ..\n",
    "# git add .\n",
    "# git commit -m \"your message\"\n",
    "# git push\n",
    "\n",
    "\n",
    "import numpy as np\n",
    "import math\n",
    "import matplotlib.pyplot as plt\n",
    "import pandas as pd"
   ]
  },
  {
   "cell_type": "code",
   "execution_count": null,
   "metadata": {},
   "outputs": [],
   "source": [
    "#df = pd.read_csv(\"listings.csv\")\n",
    "\n",
    "# The top 10 most important features are:\n",
    "# How many people the property accommodates\n",
    "# The cleaning fee\n",
    "# How many other listings the host has (and whether they are a multi-listing host)\n",
    "# How many days are available to book out of the next 90\n",
    "# The fee per extra person\n",
    "# The number of reviews\n",
    "# The number of bathrooms\n",
    "# The security deposit\n",
    "# If the property is in Westminster\n",
    "# The minimum nights stay\n",
    "\n",
    "\n",
    "raw_df = pd.read_csv(\"listings.csv.gz\")\n",
    "\n",
    "\n",
    "cols_to_drop = ['listing_url', 'scrape_id', 'last_scraped', 'name', 'summary', 'space', 'description', 'neighborhood_overview', 'notes', 'transit', 'access', 'interaction', 'house_rules', 'thumbnail_url', 'medium_url', 'picture_url', 'xl_picture_url', 'host_id', 'host_url', 'host_name', 'host_location', 'host_about', 'host_thumbnail_url', 'host_picture_url', 'host_neighbourhood', 'host_verifications', 'calendar_last_scraped']\n",
    "\n",
    "df = raw_df.drop(cols_to_drop, axis=1)\n",
    "df"
   ]
  }
 ],
 "metadata": {
  "kernelspec": {
   "display_name": "Python 3",
   "language": "python",
   "name": "python3"
  },
  "language_info": {
   "codemirror_mode": {
    "name": "ipython",
    "version": 3
   },
   "file_extension": ".py",
   "mimetype": "text/x-python",
   "name": "python",
   "nbconvert_exporter": "python",
   "pygments_lexer": "ipython3",
   "version": "3.7.5"
  }
 },
 "nbformat": 4,
 "nbformat_minor": 2
}
