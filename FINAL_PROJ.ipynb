{
 "cells": [
  {
   "cell_type": "code",
   "execution_count": 4,
   "metadata": {},
   "outputs": [],
   "source": [
    "# BEFORE DOING ANYTHING\n",
    "# cd Desktop\n",
    "# git pull\n",
    "\n",
    "# .. then do stuff ..\n",
    "# git add .\n",
    "# git commit -m \"your message\"\n",
    "# git push\n",
    "\n",
    "\n",
    "import numpy as np\n",
    "import math\n",
    "import matplotlib.pyplot as plt\n",
    "import pandas as pd"
   ]
  },
  {
   "cell_type": "code",
   "execution_count": 24,
   "metadata": {},
   "outputs": [],
   "source": [
    "# The top 10 most important features are:\n",
    "# How many people the property accommodates\n",
    "# The cleaning fee\n",
    "# How many other listings the host has (and whether they are a multi-listing host)\n",
    "# How many days are available to book out of the next 90\n",
    "# The fee per extra person\n",
    "# The number of reviews\n",
    "# The number of bathrooms\n",
    "# The security deposit\n",
    "# If the property is in Westminster\n",
    "# The minimum nights stay\n",
    "\n",
    "\n",
    "raw_df = pd.read_csv(\"listings.csv.gz\")\n",
    "# free text columns will be dropped for now\n",
    "cols_to_drop = ['listing_url', 'scrape_id', 'last_scraped', 'name', 'summary', 'space', 'description', 'neighborhood_overview', 'notes', 'transit', 'access', 'interaction', 'house_rules', 'thumbnail_url', 'medium_url', 'picture_url', 'xl_picture_url', 'host_id', 'host_url', 'host_name', 'host_location', 'host_about', 'host_thumbnail_url', 'host_picture_url', 'host_neighbourhood', 'host_verifications', 'calendar_last_scraped']\n",
    "df = raw_df.drop(cols_to_drop, axis=1)\n",
    "\n",
    "pd.set_option('display.max_columns', len(raw_df.columns)) # To view all columns\n",
    "pd.set_option('display.max_rows', 100)"
   ]
  },
  {
   "cell_type": "code",
   "execution_count": 26,
   "metadata": {},
   "outputs": [
    {
     "name": "stdout",
     "output_type": "stream",
     "text": [
      "id                                                  0\n",
      "experiences_offered                                 0\n",
      "host_since                                         16\n",
      "host_response_time                               8294\n",
      "host_response_rate                               8294\n",
      "host_acceptance_rate                            45053\n",
      "host_is_superhost                                  16\n",
      "host_listings_count                                16\n",
      "host_total_listings_count                          16\n",
      "host_has_profile_pic                               16\n",
      "host_identity_verified                             16\n",
      "street                                              0\n",
      "neighbourhood                                    2260\n",
      "neighbourhood_cleansed                              0\n",
      "neighbourhood_group_cleansed                    45053\n",
      "city                                               20\n",
      "state                                               1\n",
      "zipcode                                           520\n",
      "market                                             67\n",
      "smart_location                                      0\n",
      "country_code                                        0\n",
      "country                                             0\n",
      "latitude                                            0\n",
      "longitude                                           0\n",
      "is_location_exact                                   0\n",
      "property_type                                       0\n",
      "room_type                                           0\n",
      "accommodates                                        0\n",
      "bathrooms                                          19\n",
      "bedrooms                                           46\n",
      "beds                                               71\n",
      "bed_type                                            0\n",
      "amenities                                           0\n",
      "square_feet                                     44731\n",
      "price                                               0\n",
      "weekly_price                                    40356\n",
      "monthly_price                                   40739\n",
      "security_deposit                                10906\n",
      "cleaning_fee                                     5868\n",
      "guests_included                                     0\n",
      "extra_people                                        0\n",
      "minimum_nights                                      0\n",
      "maximum_nights                                      0\n",
      "minimum_minimum_nights                              0\n",
      "maximum_minimum_nights                              0\n",
      "minimum_maximum_nights                              0\n",
      "maximum_maximum_nights                              0\n",
      "minimum_nights_avg_ntm                              0\n",
      "maximum_nights_avg_ntm                              0\n",
      "calendar_updated                                    0\n",
      "has_availability                                    0\n",
      "availability_30                                     0\n",
      "availability_60                                     0\n",
      "availability_90                                     0\n",
      "availability_365                                    0\n",
      "number_of_reviews                                   0\n",
      "number_of_reviews_ltm                               0\n",
      "first_review                                     8519\n",
      "last_review                                      8519\n",
      "review_scores_rating                             9080\n",
      "review_scores_accuracy                           9095\n",
      "review_scores_cleanliness                        9095\n",
      "review_scores_checkin                            9120\n",
      "review_scores_communication                      9098\n",
      "review_scores_location                           9125\n",
      "review_scores_value                              9133\n",
      "requires_license                                    0\n",
      "license                                         43021\n",
      "jurisdiction_names                              12027\n",
      "instant_bookable                                    0\n",
      "is_business_travel_ready                            0\n",
      "cancellation_policy                                 0\n",
      "require_guest_profile_picture                       0\n",
      "require_guest_phone_verification                    0\n",
      "calculated_host_listings_count                      0\n",
      "calculated_host_listings_count_entire_homes         0\n",
      "calculated_host_listings_count_private_rooms        0\n",
      "calculated_host_listings_count_shared_rooms         0\n",
      "reviews_per_month                                8519\n",
      "dtype: int64\n"
     ]
    }
   ],
   "source": [
    "l = df.isna().sum()\n",
    "df.drop([\"host_acceptance_rate\", \"neighbourhood_group_cleansed\", \"square_feet\", \"weekly_price\", \"monthly_price\", \n",
    "         \"license\", \"jurisdiction_names\"], axis=1, inplace=True)"
   ]
  },
  {
   "cell_type": "code",
   "execution_count": 38,
   "metadata": {},
   "outputs": [
    {
     "name": "stdout",
     "output_type": "stream",
     "text": [
      "16\n"
     ]
    }
   ],
   "source": [
    "# host_listings_count and host_total_listings_count are the same in all but 16 cases. \n",
    "# These cases are those where the value is NaN. Therefore one of these columns can be dropped. \n",
    "print(sum((df.host_listings_count == df.host_total_listings_count) == False))\n",
    "df.loc[((df.host_listings_count == df.host_total_listings_count) == False)][:]\n",
    "df.drop(['host_total_listings_count', 'calculated_host_listings_count', 'calculated_host_listings_count_entire_homes',\n",
    "         'calculated_host_listings_count_private_rooms', 'calculated_host_listings_count_shared_rooms'], axis=1, inplace=True)\n"
   ]
  },
  {
   "cell_type": "code",
   "execution_count": 46,
   "metadata": {},
   "outputs": [],
   "source": [
    "# Since all locations in Los Angeles, drop any columns related to location ie state, country\n",
    "df[\"smart_location\"].value_counts()\n",
    "lat_long = df[[\"latitude\", \"longitude\"]]\n",
    "df.drop([\"zipcode\", \"state\", \"country\", \"country_code\", \"street\", \"neighbourhood\", \"city\", \"latitude\", \"longitude\", \n",
    "         \"market\", \"smart_location\", \"is_location_exact\"], axis=1, inplace= True)"
   ]
  },
  {
   "cell_type": "code",
   "execution_count": 47,
   "metadata": {},
   "outputs": [
    {
     "data": {
      "text/plain": [
       "1962"
      ]
     },
     "execution_count": 47,
     "metadata": {},
     "output_type": "execute_result"
    }
   ],
   "source": [
    "\n",
    "sum((df.minimum_nights == df.minimum_minimum_nights) == False)"
   ]
  }
 ],
 "metadata": {
  "kernelspec": {
   "display_name": "Python 3",
   "language": "python",
   "name": "python3"
  },
  "language_info": {
   "codemirror_mode": {
    "name": "ipython",
    "version": 3
   },
   "file_extension": ".py",
   "mimetype": "text/x-python",
   "name": "python",
   "nbconvert_exporter": "python",
   "pygments_lexer": "ipython3",
   "version": "3.7.5"
  }
 },
 "nbformat": 4,
 "nbformat_minor": 2
}
